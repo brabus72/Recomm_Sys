{
  "nbformat": 4,
  "nbformat_minor": 0,
  "metadata": {
    "kernelspec": {
      "display_name": "Python 3",
      "language": "python",
      "name": "python3"
    },
    "language_info": {
      "codemirror_mode": {
        "name": "ipython",
        "version": 3
      },
      "file_extension": ".py",
      "mimetype": "text/x-python",
      "name": "python",
      "nbconvert_exporter": "python",
      "pygments_lexer": "ipython3",
      "version": "3.7.7"
    },
    "colab": {
      "name": "RS_hw6.ipynb",
      "provenance": [],
      "collapsed_sections": [],
      "toc_visible": true
    },
    "accelerator": "GPU",
    "widgets": {
      "application/vnd.jupyter.widget-state+json": {
        "47ad0fb2442648249074de41926f2299": {
          "model_module": "@jupyter-widgets/controls",
          "model_name": "HBoxModel",
          "state": {
            "_view_name": "HBoxView",
            "_dom_classes": [],
            "_model_name": "HBoxModel",
            "_view_module": "@jupyter-widgets/controls",
            "_model_module_version": "1.5.0",
            "_view_count": null,
            "_view_module_version": "1.5.0",
            "box_style": "",
            "layout": "IPY_MODEL_b6de568b6627467daf4dda6d4b53e8b8",
            "_model_module": "@jupyter-widgets/controls",
            "children": [
              "IPY_MODEL_e1aefbe3d6ba49c9bd68dfd6381b8960",
              "IPY_MODEL_21d1ef6415034822ab950223188f2e91"
            ]
          }
        },
        "b6de568b6627467daf4dda6d4b53e8b8": {
          "model_module": "@jupyter-widgets/base",
          "model_name": "LayoutModel",
          "state": {
            "_view_name": "LayoutView",
            "grid_template_rows": null,
            "right": null,
            "justify_content": null,
            "_view_module": "@jupyter-widgets/base",
            "overflow": null,
            "_model_module_version": "1.2.0",
            "_view_count": null,
            "flex_flow": null,
            "width": null,
            "min_width": null,
            "border": null,
            "align_items": null,
            "bottom": null,
            "_model_module": "@jupyter-widgets/base",
            "top": null,
            "grid_column": null,
            "overflow_y": null,
            "overflow_x": null,
            "grid_auto_flow": null,
            "grid_area": null,
            "grid_template_columns": null,
            "flex": null,
            "_model_name": "LayoutModel",
            "justify_items": null,
            "grid_row": null,
            "max_height": null,
            "align_content": null,
            "visibility": null,
            "align_self": null,
            "height": null,
            "min_height": null,
            "padding": null,
            "grid_auto_rows": null,
            "grid_gap": null,
            "max_width": null,
            "order": null,
            "_view_module_version": "1.2.0",
            "grid_template_areas": null,
            "object_position": null,
            "object_fit": null,
            "grid_auto_columns": null,
            "margin": null,
            "display": null,
            "left": null
          }
        },
        "e1aefbe3d6ba49c9bd68dfd6381b8960": {
          "model_module": "@jupyter-widgets/controls",
          "model_name": "FloatProgressModel",
          "state": {
            "_view_name": "ProgressView",
            "style": "IPY_MODEL_50c007377f81475c90447db811efd320",
            "_dom_classes": [],
            "description": "100%",
            "_model_name": "FloatProgressModel",
            "bar_style": "success",
            "max": 15,
            "_view_module": "@jupyter-widgets/controls",
            "_model_module_version": "1.5.0",
            "value": 15,
            "_view_count": null,
            "_view_module_version": "1.5.0",
            "orientation": "horizontal",
            "min": 0,
            "description_tooltip": null,
            "_model_module": "@jupyter-widgets/controls",
            "layout": "IPY_MODEL_fd8b4a53b62e4bd98545eb764ef75833"
          }
        },
        "21d1ef6415034822ab950223188f2e91": {
          "model_module": "@jupyter-widgets/controls",
          "model_name": "HTMLModel",
          "state": {
            "_view_name": "HTMLView",
            "style": "IPY_MODEL_838456dde15541de81ad79c0dbca985a",
            "_dom_classes": [],
            "description": "",
            "_model_name": "HTMLModel",
            "placeholder": "​",
            "_view_module": "@jupyter-widgets/controls",
            "_model_module_version": "1.5.0",
            "value": " 15/15 [00:00&lt;00:00, 43.48it/s]",
            "_view_count": null,
            "_view_module_version": "1.5.0",
            "description_tooltip": null,
            "_model_module": "@jupyter-widgets/controls",
            "layout": "IPY_MODEL_3dc57aae7e824bb6b7eaffc1902d886e"
          }
        },
        "50c007377f81475c90447db811efd320": {
          "model_module": "@jupyter-widgets/controls",
          "model_name": "ProgressStyleModel",
          "state": {
            "_view_name": "StyleView",
            "_model_name": "ProgressStyleModel",
            "description_width": "initial",
            "_view_module": "@jupyter-widgets/base",
            "_model_module_version": "1.5.0",
            "_view_count": null,
            "_view_module_version": "1.2.0",
            "bar_color": null,
            "_model_module": "@jupyter-widgets/controls"
          }
        },
        "fd8b4a53b62e4bd98545eb764ef75833": {
          "model_module": "@jupyter-widgets/base",
          "model_name": "LayoutModel",
          "state": {
            "_view_name": "LayoutView",
            "grid_template_rows": null,
            "right": null,
            "justify_content": null,
            "_view_module": "@jupyter-widgets/base",
            "overflow": null,
            "_model_module_version": "1.2.0",
            "_view_count": null,
            "flex_flow": null,
            "width": null,
            "min_width": null,
            "border": null,
            "align_items": null,
            "bottom": null,
            "_model_module": "@jupyter-widgets/base",
            "top": null,
            "grid_column": null,
            "overflow_y": null,
            "overflow_x": null,
            "grid_auto_flow": null,
            "grid_area": null,
            "grid_template_columns": null,
            "flex": null,
            "_model_name": "LayoutModel",
            "justify_items": null,
            "grid_row": null,
            "max_height": null,
            "align_content": null,
            "visibility": null,
            "align_self": null,
            "height": null,
            "min_height": null,
            "padding": null,
            "grid_auto_rows": null,
            "grid_gap": null,
            "max_width": null,
            "order": null,
            "_view_module_version": "1.2.0",
            "grid_template_areas": null,
            "object_position": null,
            "object_fit": null,
            "grid_auto_columns": null,
            "margin": null,
            "display": null,
            "left": null
          }
        },
        "838456dde15541de81ad79c0dbca985a": {
          "model_module": "@jupyter-widgets/controls",
          "model_name": "DescriptionStyleModel",
          "state": {
            "_view_name": "StyleView",
            "_model_name": "DescriptionStyleModel",
            "description_width": "",
            "_view_module": "@jupyter-widgets/base",
            "_model_module_version": "1.5.0",
            "_view_count": null,
            "_view_module_version": "1.2.0",
            "_model_module": "@jupyter-widgets/controls"
          }
        },
        "3dc57aae7e824bb6b7eaffc1902d886e": {
          "model_module": "@jupyter-widgets/base",
          "model_name": "LayoutModel",
          "state": {
            "_view_name": "LayoutView",
            "grid_template_rows": null,
            "right": null,
            "justify_content": null,
            "_view_module": "@jupyter-widgets/base",
            "overflow": null,
            "_model_module_version": "1.2.0",
            "_view_count": null,
            "flex_flow": null,
            "width": null,
            "min_width": null,
            "border": null,
            "align_items": null,
            "bottom": null,
            "_model_module": "@jupyter-widgets/base",
            "top": null,
            "grid_column": null,
            "overflow_y": null,
            "overflow_x": null,
            "grid_auto_flow": null,
            "grid_area": null,
            "grid_template_columns": null,
            "flex": null,
            "_model_name": "LayoutModel",
            "justify_items": null,
            "grid_row": null,
            "max_height": null,
            "align_content": null,
            "visibility": null,
            "align_self": null,
            "height": null,
            "min_height": null,
            "padding": null,
            "grid_auto_rows": null,
            "grid_gap": null,
            "max_width": null,
            "order": null,
            "_view_module_version": "1.2.0",
            "grid_template_areas": null,
            "object_position": null,
            "object_fit": null,
            "grid_auto_columns": null,
            "margin": null,
            "display": null,
            "left": null
          }
        },
        "6a44c10438fa41c6ad3d6bc1e0d0f237": {
          "model_module": "@jupyter-widgets/controls",
          "model_name": "HBoxModel",
          "state": {
            "_view_name": "HBoxView",
            "_dom_classes": [],
            "_model_name": "HBoxModel",
            "_view_module": "@jupyter-widgets/controls",
            "_model_module_version": "1.5.0",
            "_view_count": null,
            "_view_module_version": "1.5.0",
            "box_style": "",
            "layout": "IPY_MODEL_ff0cd309868f4f49a57a05d7d06505f8",
            "_model_module": "@jupyter-widgets/controls",
            "children": [
              "IPY_MODEL_7ff87b22001c443d9e0ee73a282f0181",
              "IPY_MODEL_f8f5809da315461f94a6da8af0421b0b"
            ]
          }
        },
        "ff0cd309868f4f49a57a05d7d06505f8": {
          "model_module": "@jupyter-widgets/base",
          "model_name": "LayoutModel",
          "state": {
            "_view_name": "LayoutView",
            "grid_template_rows": null,
            "right": null,
            "justify_content": null,
            "_view_module": "@jupyter-widgets/base",
            "overflow": null,
            "_model_module_version": "1.2.0",
            "_view_count": null,
            "flex_flow": null,
            "width": null,
            "min_width": null,
            "border": null,
            "align_items": null,
            "bottom": null,
            "_model_module": "@jupyter-widgets/base",
            "top": null,
            "grid_column": null,
            "overflow_y": null,
            "overflow_x": null,
            "grid_auto_flow": null,
            "grid_area": null,
            "grid_template_columns": null,
            "flex": null,
            "_model_name": "LayoutModel",
            "justify_items": null,
            "grid_row": null,
            "max_height": null,
            "align_content": null,
            "visibility": null,
            "align_self": null,
            "height": null,
            "min_height": null,
            "padding": null,
            "grid_auto_rows": null,
            "grid_gap": null,
            "max_width": null,
            "order": null,
            "_view_module_version": "1.2.0",
            "grid_template_areas": null,
            "object_position": null,
            "object_fit": null,
            "grid_auto_columns": null,
            "margin": null,
            "display": null,
            "left": null
          }
        },
        "7ff87b22001c443d9e0ee73a282f0181": {
          "model_module": "@jupyter-widgets/controls",
          "model_name": "FloatProgressModel",
          "state": {
            "_view_name": "ProgressView",
            "style": "IPY_MODEL_68586e2e01e64de3adc30b65a94a214d",
            "_dom_classes": [],
            "description": "100%",
            "_model_name": "FloatProgressModel",
            "bar_style": "success",
            "max": 5001,
            "_view_module": "@jupyter-widgets/controls",
            "_model_module_version": "1.5.0",
            "value": 5001,
            "_view_count": null,
            "_view_module_version": "1.5.0",
            "orientation": "horizontal",
            "min": 0,
            "description_tooltip": null,
            "_model_module": "@jupyter-widgets/controls",
            "layout": "IPY_MODEL_6933e8e1fd494d0ab2331eabfc9699f3"
          }
        },
        "f8f5809da315461f94a6da8af0421b0b": {
          "model_module": "@jupyter-widgets/controls",
          "model_name": "HTMLModel",
          "state": {
            "_view_name": "HTMLView",
            "style": "IPY_MODEL_0d269e829ab344f68a74a766a7522c35",
            "_dom_classes": [],
            "description": "",
            "_model_name": "HTMLModel",
            "placeholder": "​",
            "_view_module": "@jupyter-widgets/controls",
            "_model_module_version": "1.5.0",
            "value": " 5001/5001 [00:42&lt;00:00, 118.32it/s]",
            "_view_count": null,
            "_view_module_version": "1.5.0",
            "description_tooltip": null,
            "_model_module": "@jupyter-widgets/controls",
            "layout": "IPY_MODEL_30bf40aef37a4a909177b83eeb282ded"
          }
        },
        "68586e2e01e64de3adc30b65a94a214d": {
          "model_module": "@jupyter-widgets/controls",
          "model_name": "ProgressStyleModel",
          "state": {
            "_view_name": "StyleView",
            "_model_name": "ProgressStyleModel",
            "description_width": "initial",
            "_view_module": "@jupyter-widgets/base",
            "_model_module_version": "1.5.0",
            "_view_count": null,
            "_view_module_version": "1.2.0",
            "bar_color": null,
            "_model_module": "@jupyter-widgets/controls"
          }
        },
        "6933e8e1fd494d0ab2331eabfc9699f3": {
          "model_module": "@jupyter-widgets/base",
          "model_name": "LayoutModel",
          "state": {
            "_view_name": "LayoutView",
            "grid_template_rows": null,
            "right": null,
            "justify_content": null,
            "_view_module": "@jupyter-widgets/base",
            "overflow": null,
            "_model_module_version": "1.2.0",
            "_view_count": null,
            "flex_flow": null,
            "width": null,
            "min_width": null,
            "border": null,
            "align_items": null,
            "bottom": null,
            "_model_module": "@jupyter-widgets/base",
            "top": null,
            "grid_column": null,
            "overflow_y": null,
            "overflow_x": null,
            "grid_auto_flow": null,
            "grid_area": null,
            "grid_template_columns": null,
            "flex": null,
            "_model_name": "LayoutModel",
            "justify_items": null,
            "grid_row": null,
            "max_height": null,
            "align_content": null,
            "visibility": null,
            "align_self": null,
            "height": null,
            "min_height": null,
            "padding": null,
            "grid_auto_rows": null,
            "grid_gap": null,
            "max_width": null,
            "order": null,
            "_view_module_version": "1.2.0",
            "grid_template_areas": null,
            "object_position": null,
            "object_fit": null,
            "grid_auto_columns": null,
            "margin": null,
            "display": null,
            "left": null
          }
        },
        "0d269e829ab344f68a74a766a7522c35": {
          "model_module": "@jupyter-widgets/controls",
          "model_name": "DescriptionStyleModel",
          "state": {
            "_view_name": "StyleView",
            "_model_name": "DescriptionStyleModel",
            "description_width": "",
            "_view_module": "@jupyter-widgets/base",
            "_model_module_version": "1.5.0",
            "_view_count": null,
            "_view_module_version": "1.2.0",
            "_model_module": "@jupyter-widgets/controls"
          }
        },
        "30bf40aef37a4a909177b83eeb282ded": {
          "model_module": "@jupyter-widgets/base",
          "model_name": "LayoutModel",
          "state": {
            "_view_name": "LayoutView",
            "grid_template_rows": null,
            "right": null,
            "justify_content": null,
            "_view_module": "@jupyter-widgets/base",
            "overflow": null,
            "_model_module_version": "1.2.0",
            "_view_count": null,
            "flex_flow": null,
            "width": null,
            "min_width": null,
            "border": null,
            "align_items": null,
            "bottom": null,
            "_model_module": "@jupyter-widgets/base",
            "top": null,
            "grid_column": null,
            "overflow_y": null,
            "overflow_x": null,
            "grid_auto_flow": null,
            "grid_area": null,
            "grid_template_columns": null,
            "flex": null,
            "_model_name": "LayoutModel",
            "justify_items": null,
            "grid_row": null,
            "max_height": null,
            "align_content": null,
            "visibility": null,
            "align_self": null,
            "height": null,
            "min_height": null,
            "padding": null,
            "grid_auto_rows": null,
            "grid_gap": null,
            "max_width": null,
            "order": null,
            "_view_module_version": "1.2.0",
            "grid_template_areas": null,
            "object_position": null,
            "object_fit": null,
            "grid_auto_columns": null,
            "margin": null,
            "display": null,
            "left": null
          }
        }
      }
    }
  },
  "cells": [
    {
      "cell_type": "markdown",
      "metadata": {
        "id": "4aL_-n1PAIdR",
        "colab_type": "text"
      },
      "source": [
        "## Домашнее задание - 6\n"
      ]
    },
    {
      "cell_type": "markdown",
      "metadata": {
        "id": "K9i-3xqbAIdT",
        "colab_type": "text"
      },
      "source": [
        "Код для src, utils, metrics вы можете скачать из [этого](https://github.com/geangohn/recsys-tutorial) github репозитория"
      ]
    },
    {
      "cell_type": "code",
      "metadata": {
        "id": "3t1gbPhPJIki",
        "colab_type": "code",
        "colab": {
          "base_uri": "https://localhost:8080/",
          "height": 90
        },
        "outputId": "cf3613c6-bcfc-447b-864a-12891ab87619"
      },
      "source": [
        "!pip install implicit"
      ],
      "execution_count": 1,
      "outputs": [
        {
          "output_type": "stream",
          "text": [
            "Requirement already satisfied: implicit in /usr/local/lib/python3.6/dist-packages (0.4.4)\n",
            "Requirement already satisfied: tqdm>=4.27 in /usr/local/lib/python3.6/dist-packages (from implicit) (4.41.1)\n",
            "Requirement already satisfied: scipy>=0.16 in /usr/local/lib/python3.6/dist-packages (from implicit) (1.4.1)\n",
            "Requirement already satisfied: numpy in /usr/local/lib/python3.6/dist-packages (from implicit) (1.18.5)\n"
          ],
          "name": "stdout"
        }
      ]
    },
    {
      "cell_type": "code",
      "metadata": {
        "id": "9Jw-5K4QAIdU",
        "colab_type": "code",
        "colab": {}
      },
      "source": [
        "import pandas as pd\n",
        "import numpy as np\n",
        "import matplotlib.pyplot as plt\n",
        "%matplotlib inline\n",
        "\n",
        "# Для работы с матрицами\n",
        "from scipy.sparse import csr_matrix\n",
        "\n",
        "# Матричная факторизация\n",
        "from implicit import als\n",
        "\n",
        "# Модель второго уровня\n",
        "from lightgbm import LGBMClassifier\n",
        "\n",
        "import os, sys\n",
        "module_path = os.path.abspath(os.path.join(os.pardir))\n",
        "if module_path not in sys.path:\n",
        "    sys.path.append(module_path)\n",
        "\n",
        "# Написанные нами функции\n",
        "from src.metrics import precision_at_k, recall_at_k\n",
        "from src.utils import prefilter_items\n",
        "from src.recommenders import MainRecommender"
      ],
      "execution_count": 3,
      "outputs": []
    },
    {
      "cell_type": "code",
      "metadata": {
        "id": "6XqfMDa-AIdc",
        "colab_type": "code",
        "colab": {
          "base_uri": "https://localhost:8080/",
          "height": 108
        },
        "outputId": "bd7d8a90-b5eb-4a03-91e2-24ce793b9a27"
      },
      "source": [
        "data = pd.read_csv('retail_train.csv')\n",
        "item_features = pd.read_csv('product.csv')\n",
        "user_features = pd.read_csv('hh_demographic.csv')\n",
        "\n",
        "# column processing\n",
        "item_features.columns = [col.lower() for col in item_features.columns]\n",
        "user_features.columns = [col.lower() for col in user_features.columns]\n",
        "\n",
        "item_features.rename(columns={'product_id': 'item_id'}, inplace=True)\n",
        "user_features.rename(columns={'household_key': 'user_id'}, inplace=True)\n",
        "\n",
        "# Важна схема обучения и валидации!\n",
        "# -- давние покупки -- | -- 6 недель -- | -- 3 недель -- \n",
        "# подобрать размер 2-ого датасета (6 недель) --> learning curve (зависимость метрики recall@k от размера датасета)\n",
        "val_lvl_1_size_weeks = 6\n",
        "val_lvl_2_size_weeks = 3\n",
        "\n",
        "data_train_lvl_1 = data[data['week_no'] < data['week_no'].max() - (val_lvl_1_size_weeks + val_lvl_2_size_weeks)]\n",
        "data_val_lvl_1 = data[(data['week_no'] >= data['week_no'].max() - (val_lvl_1_size_weeks + val_lvl_2_size_weeks)) &\n",
        "                      (data['week_no'] < data['week_no'].max() - (val_lvl_2_size_weeks))]\n",
        "\n",
        "data_train_lvl_2 = data_val_lvl_1.copy()  # Для наглядности. Далее мы добавим изменения, и они будут отличаться\n",
        "data_val_lvl_2 = data[data['week_no'] >= data['week_no'].max() - val_lvl_2_size_weeks]\n",
        "\n",
        "data_train_lvl_1.head(2)"
      ],
      "execution_count": 4,
      "outputs": [
        {
          "output_type": "execute_result",
          "data": {
            "text/html": [
              "<div>\n",
              "<style scoped>\n",
              "    .dataframe tbody tr th:only-of-type {\n",
              "        vertical-align: middle;\n",
              "    }\n",
              "\n",
              "    .dataframe tbody tr th {\n",
              "        vertical-align: top;\n",
              "    }\n",
              "\n",
              "    .dataframe thead th {\n",
              "        text-align: right;\n",
              "    }\n",
              "</style>\n",
              "<table border=\"1\" class=\"dataframe\">\n",
              "  <thead>\n",
              "    <tr style=\"text-align: right;\">\n",
              "      <th></th>\n",
              "      <th>user_id</th>\n",
              "      <th>basket_id</th>\n",
              "      <th>day</th>\n",
              "      <th>item_id</th>\n",
              "      <th>quantity</th>\n",
              "      <th>sales_value</th>\n",
              "      <th>store_id</th>\n",
              "      <th>retail_disc</th>\n",
              "      <th>trans_time</th>\n",
              "      <th>week_no</th>\n",
              "      <th>coupon_disc</th>\n",
              "      <th>coupon_match_disc</th>\n",
              "    </tr>\n",
              "  </thead>\n",
              "  <tbody>\n",
              "    <tr>\n",
              "      <th>0</th>\n",
              "      <td>2375</td>\n",
              "      <td>26984851472</td>\n",
              "      <td>1</td>\n",
              "      <td>1004906</td>\n",
              "      <td>1</td>\n",
              "      <td>1.39</td>\n",
              "      <td>364</td>\n",
              "      <td>-0.6</td>\n",
              "      <td>1631</td>\n",
              "      <td>1</td>\n",
              "      <td>0.0</td>\n",
              "      <td>0.0</td>\n",
              "    </tr>\n",
              "    <tr>\n",
              "      <th>1</th>\n",
              "      <td>2375</td>\n",
              "      <td>26984851472</td>\n",
              "      <td>1</td>\n",
              "      <td>1033142</td>\n",
              "      <td>1</td>\n",
              "      <td>0.82</td>\n",
              "      <td>364</td>\n",
              "      <td>0.0</td>\n",
              "      <td>1631</td>\n",
              "      <td>1</td>\n",
              "      <td>0.0</td>\n",
              "      <td>0.0</td>\n",
              "    </tr>\n",
              "  </tbody>\n",
              "</table>\n",
              "</div>"
            ],
            "text/plain": [
              "   user_id    basket_id  day  ...  week_no  coupon_disc  coupon_match_disc\n",
              "0     2375  26984851472    1  ...        1          0.0                0.0\n",
              "1     2375  26984851472    1  ...        1          0.0                0.0\n",
              "\n",
              "[2 rows x 12 columns]"
            ]
          },
          "metadata": {
            "tags": []
          },
          "execution_count": 4
        }
      ]
    },
    {
      "cell_type": "code",
      "metadata": {
        "id": "3Yn9ORtGAIdh",
        "colab_type": "code",
        "colab": {
          "base_uri": "https://localhost:8080/",
          "height": 35
        },
        "outputId": "c31dffcd-bd93-43c3-d61e-14e5f5fb86cd"
      },
      "source": [
        "n_items_before = data_train_lvl_1['item_id'].nunique()\n",
        "\n",
        "data_train_lvl_1 = prefilter_items(data_train_lvl_1, item_features=item_features, take_n_popular=5000)\n",
        "\n",
        "n_items_after = data_train_lvl_1['item_id'].nunique()\n",
        "print('Decreased # items from {} to {}'.format(n_items_before, n_items_after))"
      ],
      "execution_count": 5,
      "outputs": [
        {
          "output_type": "stream",
          "text": [
            "Decreased # items from 83685 to 5001\n"
          ],
          "name": "stdout"
        }
      ]
    },
    {
      "cell_type": "code",
      "metadata": {
        "id": "EuhTsoWnAIdl",
        "colab_type": "code",
        "colab": {
          "base_uri": "https://localhost:8080/",
          "height": 135,
          "referenced_widgets": [
            "47ad0fb2442648249074de41926f2299",
            "b6de568b6627467daf4dda6d4b53e8b8",
            "e1aefbe3d6ba49c9bd68dfd6381b8960",
            "21d1ef6415034822ab950223188f2e91",
            "50c007377f81475c90447db811efd320",
            "fd8b4a53b62e4bd98545eb764ef75833",
            "838456dde15541de81ad79c0dbca985a",
            "3dc57aae7e824bb6b7eaffc1902d886e",
            "6a44c10438fa41c6ad3d6bc1e0d0f237",
            "ff0cd309868f4f49a57a05d7d06505f8",
            "7ff87b22001c443d9e0ee73a282f0181",
            "f8f5809da315461f94a6da8af0421b0b",
            "68586e2e01e64de3adc30b65a94a214d",
            "6933e8e1fd494d0ab2331eabfc9699f3",
            "0d269e829ab344f68a74a766a7522c35",
            "30bf40aef37a4a909177b83eeb282ded"
          ]
        },
        "outputId": "19ff4f53-8850-443f-8003-fedcd4b1361c"
      },
      "source": [
        "recommender = MainRecommender(data_train_lvl_1)"
      ],
      "execution_count": 6,
      "outputs": [
        {
          "output_type": "stream",
          "text": [
            "WARNING:root:OpenBLAS detected. Its highly recommend to set the environment variable 'export OPENBLAS_NUM_THREADS=1' to disable its internal multithreading\n"
          ],
          "name": "stderr"
        },
        {
          "output_type": "display_data",
          "data": {
            "application/vnd.jupyter.widget-view+json": {
              "model_id": "47ad0fb2442648249074de41926f2299",
              "version_minor": 0,
              "version_major": 2
            },
            "text/plain": [
              "HBox(children=(FloatProgress(value=0.0, max=15.0), HTML(value='')))"
            ]
          },
          "metadata": {
            "tags": []
          }
        },
        {
          "output_type": "stream",
          "text": [
            "\n"
          ],
          "name": "stdout"
        },
        {
          "output_type": "display_data",
          "data": {
            "application/vnd.jupyter.widget-view+json": {
              "model_id": "6a44c10438fa41c6ad3d6bc1e0d0f237",
              "version_minor": 0,
              "version_major": 2
            },
            "text/plain": [
              "HBox(children=(FloatProgress(value=0.0, max=5001.0), HTML(value='')))"
            ]
          },
          "metadata": {
            "tags": []
          }
        },
        {
          "output_type": "stream",
          "text": [
            "\n"
          ],
          "name": "stdout"
        }
      ]
    },
    {
      "cell_type": "code",
      "metadata": {
        "id": "SlgJ56vCAIdq",
        "colab_type": "code",
        "colab": {
          "base_uri": "https://localhost:8080/",
          "height": 1000
        },
        "outputId": "eed19b87-a5da-4295-da72-10ff3fdb9ddc"
      },
      "source": [
        "recommender.get_als_recommendations(2375, N=200)"
      ],
      "execution_count": 7,
      "outputs": [
        {
          "output_type": "execute_result",
          "data": {
            "text/plain": [
              "[899624,\n",
              " 871756,\n",
              " 999714,\n",
              " 1106523,\n",
              " 1116376,\n",
              " 883932,\n",
              " 12731432,\n",
              " 1044078,\n",
              " 1046545,\n",
              " 1094833,\n",
              " 1003616,\n",
              " 1022827,\n",
              " 913278,\n",
              " 5569230,\n",
              " 8090521,\n",
              " 854852,\n",
              " 1102207,\n",
              " 1090931,\n",
              " 832678,\n",
              " 12731543,\n",
              " 841220,\n",
              " 925862,\n",
              " 1138467,\n",
              " 1123146,\n",
              " 1009770,\n",
              " 827919,\n",
              " 896613,\n",
              " 1051323,\n",
              " 12262978,\n",
              " 1131047,\n",
              " 6534480,\n",
              " 1134678,\n",
              " 949965,\n",
              " 844179,\n",
              " 828106,\n",
              " 1081177,\n",
              " 823990,\n",
              " 865456,\n",
              " 9526410,\n",
              " 963727,\n",
              " 1081262,\n",
              " 8090537,\n",
              " 1000753,\n",
              " 1026984,\n",
              " 999779,\n",
              " 863447,\n",
              " 1107420,\n",
              " 828393,\n",
              " 830304,\n",
              " 861279,\n",
              " 1097001,\n",
              " 1004906,\n",
              " 963971,\n",
              " 851819,\n",
              " 9836106,\n",
              " 9835223,\n",
              " 898958,\n",
              " 1137284,\n",
              " 947858,\n",
              " 8091550,\n",
              " 1132771,\n",
              " 879504,\n",
              " 8180870,\n",
              " 1137346,\n",
              " 1103691,\n",
              " 826666,\n",
              " 823704,\n",
              " 1092937,\n",
              " 1012587,\n",
              " 822178,\n",
              " 1001702,\n",
              " 9419769,\n",
              " 1084613,\n",
              " 845208,\n",
              " 870547,\n",
              " 865528,\n",
              " 1037863,\n",
              " 965267,\n",
              " 9707340,\n",
              " 944534,\n",
              " 1131438,\n",
              " 973181,\n",
              " 834911,\n",
              " 868909,\n",
              " 949151,\n",
              " 1042544,\n",
              " 1068719,\n",
              " 12810391,\n",
              " 1033046,\n",
              " 995896,\n",
              " 847066,\n",
              " 835300,\n",
              " 847962,\n",
              " 1067695,\n",
              " 1038663,\n",
              " 847790,\n",
              " 12262778,\n",
              " 898068,\n",
              " 1096573,\n",
              " 5567143,\n",
              " 917384,\n",
              " 938138,\n",
              " 1056509,\n",
              " 910032,\n",
              " 9832469,\n",
              " 12301839,\n",
              " 1097458,\n",
              " 9677543,\n",
              " 13007264,\n",
              " 8203606,\n",
              " 926905,\n",
              " 1031316,\n",
              " 5578437,\n",
              " 9835451,\n",
              " 6534578,\n",
              " 952163,\n",
              " 903609,\n",
              " 989069,\n",
              " 864279,\n",
              " 1025535,\n",
              " 871061,\n",
              " 930666,\n",
              " 848029,\n",
              " 1022428,\n",
              " 1035207,\n",
              " 1033857,\n",
              " 825343,\n",
              " 850102,\n",
              " 850139,\n",
              " 1111116,\n",
              " 869322,\n",
              " 866025,\n",
              " 8065410,\n",
              " 12757140,\n",
              " 854261,\n",
              " 5585510,\n",
              " 908217,\n",
              " 948650,\n",
              " 880150,\n",
              " 874972,\n",
              " 937292,\n",
              " 1085983,\n",
              " 964734,\n",
              " 5566307,\n",
              " 7410348,\n",
              " 1016800,\n",
              " 821741,\n",
              " 999270,\n",
              " 1051211,\n",
              " 923149,\n",
              " 1075505,\n",
              " 1027642,\n",
              " 1043751,\n",
              " 1000736,\n",
              " 832442,\n",
              " 928584,\n",
              " 894439,\n",
              " 888543,\n",
              " 849297,\n",
              " 967205,\n",
              " 957411,\n",
              " 936355,\n",
              " 9835903,\n",
              " 940726,\n",
              " 951190,\n",
              " 5568661,\n",
              " 1124695,\n",
              " 919681,\n",
              " 925178,\n",
              " 999391,\n",
              " 843111,\n",
              " 1103105,\n",
              " 5570048,\n",
              " 5569845,\n",
              " 858419,\n",
              " 930283,\n",
              " 829138,\n",
              " 5563693,\n",
              " 1079067,\n",
              " 851188,\n",
              " 1023196,\n",
              " 937343,\n",
              " 998206,\n",
              " 991223,\n",
              " 7441873,\n",
              " 988508,\n",
              " 827667,\n",
              " 13512542,\n",
              " 5574045,\n",
              " 982393,\n",
              " 1076056,\n",
              " 1101010,\n",
              " 823721,\n",
              " 1075470,\n",
              " 976335,\n",
              " 963835,\n",
              " 891423,\n",
              " 916122,\n",
              " 1092885,\n",
              " 866211]"
            ]
          },
          "metadata": {
            "tags": []
          },
          "execution_count": 7
        }
      ]
    },
    {
      "cell_type": "code",
      "metadata": {
        "id": "H_ApoMOaAIdu",
        "colab_type": "code",
        "colab": {
          "base_uri": "https://localhost:8080/",
          "height": 1000
        },
        "outputId": "919519c2-305f-4bbc-fcdc-0343209ebba6"
      },
      "source": [
        "recommender.get_own_recommendations(2375, N=200)"
      ],
      "execution_count": 8,
      "outputs": [
        {
          "output_type": "execute_result",
          "data": {
            "text/plain": [
              "[948640,\n",
              " 918046,\n",
              " 847962,\n",
              " 907099,\n",
              " 873980,\n",
              " 884694,\n",
              " 10285454,\n",
              " 1107760,\n",
              " 7169090,\n",
              " 979674,\n",
              " 10308345,\n",
              " 1069531,\n",
              " 974766,\n",
              " 1015474,\n",
              " 950935,\n",
              " 847066,\n",
              " 1102207,\n",
              " 1020770,\n",
              " 9521787,\n",
              " 974265,\n",
              " 940996,\n",
              " 8019845,\n",
              " 5567194,\n",
              " 12811490,\n",
              " 1003616,\n",
              " 973181,\n",
              " 890719,\n",
              " 982955,\n",
              " 9677152,\n",
              " 998519,\n",
              " 1072685,\n",
              " 1131382,\n",
              " 1021715,\n",
              " 12263119,\n",
              " 960791,\n",
              " 7441873,\n",
              " 986021,\n",
              " 956666,\n",
              " 1038692,\n",
              " 9677748,\n",
              " 9297223,\n",
              " 927030,\n",
              " 12757653,\n",
              " 1046919,\n",
              " 6391532,\n",
              " 989069,\n",
              " 1068451,\n",
              " 951954,\n",
              " 835300,\n",
              " 937343,\n",
              " 1047249,\n",
              " 13876348,\n",
              " 1061732,\n",
              " 981601,\n",
              " 1121028,\n",
              " 1087547,\n",
              " 828393,\n",
              " 996269,\n",
              " 951951,\n",
              " 1036093,\n",
              " 1023815,\n",
              " 5570408,\n",
              " 827667,\n",
              " 1082454,\n",
              " 1006878,\n",
              " 5570048,\n",
              " 841309,\n",
              " 1078652,\n",
              " 1115553,\n",
              " 1056492,\n",
              " 1138467,\n",
              " 1004945,\n",
              " 947858,\n",
              " 1092885,\n",
              " 1121694,\n",
              " 938138,\n",
              " 8019916,\n",
              " 827919,\n",
              " 984315,\n",
              " 10341855,\n",
              " 883932,\n",
              " 8291322,\n",
              " 1096794,\n",
              " 1028938,\n",
              " 1087618,\n",
              " 8020166,\n",
              " 1082185,\n",
              " 866871,\n",
              " 930666,\n",
              " 825994,\n",
              " 910151,\n",
              " 823990,\n",
              " 848029,\n",
              " 896613,\n",
              " 12301839,\n",
              " 1117219,\n",
              " 1135258,\n",
              " 869868,\n",
              " 1046545,\n",
              " 899624,\n",
              " 6442594,\n",
              " 1137775,\n",
              " 825343,\n",
              " 1042907,\n",
              " 828106,\n",
              " 9245106,\n",
              " 947412,\n",
              " 902172,\n",
              " 8065410,\n",
              " 6034857,\n",
              " 1043751,\n",
              " 863447,\n",
              " 823704,\n",
              " 908318,\n",
              " 1105488,\n",
              " 874972,\n",
              " 7024847,\n",
              " 1081177,\n",
              " 1044078,\n",
              " 878996,\n",
              " 5707857,\n",
              " 916122,\n",
              " 1029743,\n",
              " 1106523,\n",
              " 5569230,\n",
              " 916122,\n",
              " 844179,\n",
              " 1044078,\n",
              " 1126899,\n",
              " 1070820,\n",
              " 1127831,\n",
              " 866211,\n",
              " 8090521,\n",
              " 878996,\n",
              " 8090537,\n",
              " 5569471,\n",
              " 1004906,\n",
              " 854852,\n",
              " 899624,\n",
              " 986912,\n",
              " 933835,\n",
              " 1075368,\n",
              " 1081177,\n",
              " 6034857,\n",
              " 5585510,\n",
              " 965267,\n",
              " 834117,\n",
              " 940947,\n",
              " 983584,\n",
              " 12810393,\n",
              " 913210,\n",
              " 874972,\n",
              " 5569845,\n",
              " 5568378,\n",
              " 999858,\n",
              " 908318,\n",
              " 985999,\n",
              " 901062,\n",
              " 1040807,\n",
              " 1018740,\n",
              " 951412,\n",
              " 1101010,\n",
              " 1105488,\n",
              " 1037840,\n",
              " 880150,\n",
              " 1043751,\n",
              " 857503,\n",
              " 1122358,\n",
              " 1132771,\n",
              " 823704,\n",
              " 854405,\n",
              " 909714,\n",
              " 993638,\n",
              " 930118,\n",
              " 839419,\n",
              " 971922,\n",
              " 910032,\n",
              " 863447,\n",
              " 835098,\n",
              " 865456,\n",
              " 976199,\n",
              " 12301109,\n",
              " 1070702,\n",
              " 5569374,\n",
              " 8090532,\n",
              " 872137,\n",
              " 883003,\n",
              " 1023720,\n",
              " 1012587,\n",
              " 1000753,\n",
              " 893018,\n",
              " 1024306,\n",
              " 897954,\n",
              " 1042438,\n",
              " 907631,\n",
              " 5568729,\n",
              " 1068719,\n",
              " 1137775,\n",
              " 1087102,\n",
              " 944534]"
            ]
          },
          "metadata": {
            "tags": []
          },
          "execution_count": 8
        }
      ]
    },
    {
      "cell_type": "code",
      "metadata": {
        "id": "By1kcQV4AIdy",
        "colab_type": "code",
        "colab": {
          "base_uri": "https://localhost:8080/",
          "height": 1000
        },
        "outputId": "f3658d56-fa9f-4fbf-907f-6c029079b60e"
      },
      "source": [
        "recommender.get_similar_items_recommendation(2375, N=200)"
      ],
      "execution_count": 9,
      "outputs": [
        {
          "output_type": "execute_result",
          "data": {
            "text/plain": [
              "[1046545,\n",
              " 1044078,\n",
              " 841220,\n",
              " 1078652,\n",
              " 15778319,\n",
              " 999999,\n",
              " 1003616,\n",
              " 896613,\n",
              " 885863,\n",
              " 1025535,\n",
              " 863447,\n",
              " 878996,\n",
              " 1127831,\n",
              " 871611,\n",
              " 898068,\n",
              " 866871,\n",
              " 828106,\n",
              " 1018740,\n",
              " 1127831,\n",
              " 1084613,\n",
              " 938138,\n",
              " 907099,\n",
              " 835300,\n",
              " 844179,\n",
              " 899624,\n",
              " 13876914,\n",
              " 941883,\n",
              " 7139529,\n",
              " 985999,\n",
              " 1037417,\n",
              " 9835903,\n",
              " 1068719,\n",
              " 1000753,\n",
              " 992826,\n",
              " 1131488,\n",
              " 993912,\n",
              " 6633210,\n",
              " 848029,\n",
              " 1022428,\n",
              " 5567876,\n",
              " 14111400,\n",
              " 916122,\n",
              " 869322,\n",
              " 6463877,\n",
              " 10198511,\n",
              " 1035143,\n",
              " 947201,\n",
              " 1103618,\n",
              " 8065410,\n",
              " 1008032,\n",
              " 856827,\n",
              " 960732,\n",
              " 6979526,\n",
              " 965766,\n",
              " 15831209,\n",
              " 1112238,\n",
              " 844179,\n",
              " 828106,\n",
              " 883068,\n",
              " 1105488,\n",
              " 925862,\n",
              " 825343,\n",
              " 963971,\n",
              " 1026118,\n",
              " 899459,\n",
              " 997987,\n",
              " 8090537,\n",
              " 882247,\n",
              " 5569845,\n",
              " 948650,\n",
              " 920654,\n",
              " 12262778,\n",
              " 845677,\n",
              " 1040346,\n",
              " 957411,\n",
              " 969945,\n",
              " 866025,\n",
              " 5591170,\n",
              " 1133312,\n",
              " 828489,\n",
              " 995896,\n",
              " 1004906,\n",
              " 1055503,\n",
              " 12132277,\n",
              " 8011291,\n",
              " 913278,\n",
              " 9677149,\n",
              " 1054262,\n",
              " 885309,\n",
              " 823704,\n",
              " 1108296,\n",
              " 12757425,\n",
              " 12757653,\n",
              " 1115187,\n",
              " 1048507,\n",
              " 1053754,\n",
              " 9859111,\n",
              " 999270,\n",
              " 1018740,\n",
              " 7410348,\n",
              " 1101477,\n",
              " 885863,\n",
              " 9707240,\n",
              " 901916,\n",
              " 1109680,\n",
              " 1131488,\n",
              " 999999,\n",
              " 996070,\n",
              " 5568378,\n",
              " 861279,\n",
              " 5568995,\n",
              " 12301100,\n",
              " 826666,\n",
              " 878996,\n",
              " 957232,\n",
              " 983584,\n",
              " 10344714,\n",
              " 866878,\n",
              " 845307,\n",
              " 820518,\n",
              " 1053530,\n",
              " 5568378,\n",
              " 10285454,\n",
              " 1029743,\n",
              " 1106523,\n",
              " 5569230,\n",
              " 916122,\n",
              " 844179,\n",
              " 1044078,\n",
              " 1126899,\n",
              " 1070820,\n",
              " 1127831,\n",
              " 866211,\n",
              " 8090521,\n",
              " 878996,\n",
              " 8090537,\n",
              " 5569471,\n",
              " 1004906,\n",
              " 854852,\n",
              " 899624,\n",
              " 986912,\n",
              " 933835,\n",
              " 1075368,\n",
              " 1081177,\n",
              " 6034857,\n",
              " 5585510,\n",
              " 965267,\n",
              " 834117,\n",
              " 940947,\n",
              " 983584,\n",
              " 12810393,\n",
              " 913210,\n",
              " 874972,\n",
              " 5569845,\n",
              " 5568378,\n",
              " 999858,\n",
              " 908318,\n",
              " 985999,\n",
              " 901062,\n",
              " 1040807,\n",
              " 1018740,\n",
              " 951412,\n",
              " 1101010,\n",
              " 1105488,\n",
              " 1037840,\n",
              " 880150,\n",
              " 1043751,\n",
              " 857503,\n",
              " 1122358,\n",
              " 1132771,\n",
              " 823704,\n",
              " 854405,\n",
              " 909714,\n",
              " 993638,\n",
              " 930118,\n",
              " 839419,\n",
              " 971922,\n",
              " 910032,\n",
              " 863447,\n",
              " 835098,\n",
              " 865456,\n",
              " 976199,\n",
              " 12301109,\n",
              " 1070702,\n",
              " 5569374,\n",
              " 8090532,\n",
              " 872137,\n",
              " 883003,\n",
              " 1023720,\n",
              " 1012587,\n",
              " 1000753,\n",
              " 893018,\n",
              " 1024306,\n",
              " 897954,\n",
              " 1042438,\n",
              " 907631,\n",
              " 5568729,\n",
              " 1068719,\n",
              " 1137775,\n",
              " 1087102]"
            ]
          },
          "metadata": {
            "tags": []
          },
          "execution_count": 9
        }
      ]
    },
    {
      "cell_type": "code",
      "metadata": {
        "id": "USvThv1uAId5",
        "colab_type": "code",
        "colab": {
          "base_uri": "https://localhost:8080/",
          "height": 1000
        },
        "outputId": "c7d69f87-f813-4e1d-c0da-0fa5796f6618"
      },
      "source": [
        "recommender.get_similar_users_recommendation(2375, N=200)"
      ],
      "execution_count": 10,
      "outputs": [
        {
          "output_type": "execute_result",
          "data": {
            "text/plain": [
              "[820612,\n",
              " 896757,\n",
              " 9553048,\n",
              " 12427353,\n",
              " 9392700,\n",
              " 1012801,\n",
              " 918638,\n",
              " 949257,\n",
              " 8181555,\n",
              " 974265,\n",
              " 1124971,\n",
              " 10457044,\n",
              " 920025,\n",
              " 977927,\n",
              " 6979437,\n",
              " 985889,\n",
              " 904241,\n",
              " 959455,\n",
              " 995502,\n",
              " 1102003,\n",
              " 841365,\n",
              " 959830,\n",
              " 839605,\n",
              " 822970,\n",
              " 965772,\n",
              " 1020208,\n",
              " 9245108,\n",
              " 12523928,\n",
              " 1057168,\n",
              " 9392953,\n",
              " 1135253,\n",
              " 9553382,\n",
              " 5707857,\n",
              " 902640,\n",
              " 1117219,\n",
              " 1057168,\n",
              " 1023160,\n",
              " 948239,\n",
              " 5569135,\n",
              " 1118120,\n",
              " 8019902,\n",
              " 820582,\n",
              " 1026945,\n",
              " 927028,\n",
              " 943940,\n",
              " 994577,\n",
              " 1027835,\n",
              " 873044,\n",
              " 7443137,\n",
              " 967041,\n",
              " 917033,\n",
              " 857538,\n",
              " 988277,\n",
              " 999189,\n",
              " 1118946,\n",
              " 847803,\n",
              " 12487356,\n",
              " 916990,\n",
              " 1031316,\n",
              " 865233,\n",
              " 873324,\n",
              " 1071196,\n",
              " 1072693,\n",
              " 855454,\n",
              " 1108168,\n",
              " 939860,\n",
              " 5569309,\n",
              " 951834,\n",
              " 977927,\n",
              " 835578,\n",
              " 972445,\n",
              " 938165,\n",
              " 939860,\n",
              " 1015539,\n",
              " 9553335,\n",
              " 983665,\n",
              " 928263,\n",
              " 8066803,\n",
              " 1065538,\n",
              " 874563,\n",
              " 5574377,\n",
              " 1047525,\n",
              " 1117602,\n",
              " 854133,\n",
              " 979674,\n",
              " 1097398,\n",
              " 9677454,\n",
              " 896757,\n",
              " 951188,\n",
              " 1055403,\n",
              " 972191,\n",
              " 12263857,\n",
              " 827781,\n",
              " 1028238,\n",
              " 1058709,\n",
              " 1012801,\n",
              " 1107760,\n",
              " 6391557,\n",
              " 1088979,\n",
              " 9392953,\n",
              " 945909,\n",
              " 837495,\n",
              " 1114811,\n",
              " 977927,\n",
              " 875392,\n",
              " 1136657,\n",
              " 1081533,\n",
              " 970160,\n",
              " 1116635,\n",
              " 977780,\n",
              " 1028422,\n",
              " 1006586,\n",
              " 1087411,\n",
              " 1132956,\n",
              " 894360,\n",
              " 6544382,\n",
              " 1008288,\n",
              " 837969,\n",
              " 10198378,\n",
              " 1076580,\n",
              " 1056212,\n",
              " 1116635,\n",
              " 1112405,\n",
              " 1048373,\n",
              " 915064,\n",
              " 939681,\n",
              " 1116050,\n",
              " 8090956,\n",
              " 15831255,\n",
              " 8119101,\n",
              " 1131625,\n",
              " 6632283,\n",
              " 1030577,\n",
              " 998519,\n",
              " 930009,\n",
              " 5568197,\n",
              " 847434,\n",
              " 928932,\n",
              " 841365,\n",
              " 1071446,\n",
              " 5574358,\n",
              " 965956,\n",
              " 871514,\n",
              " 1096573,\n",
              " 896666,\n",
              " 1128477,\n",
              " 1129805,\n",
              " 820341,\n",
              " 1036486,\n",
              " 1057168,\n",
              " 1042915,\n",
              " 7409622,\n",
              " 917033,\n",
              " 12696089,\n",
              " 930335,\n",
              " 5574377,\n",
              " 6534229,\n",
              " 1120190,\n",
              " 920025,\n",
              " 7167836,\n",
              " 1043920,\n",
              " 921406,\n",
              " 833151,\n",
              " 857348,\n",
              " 918046,\n",
              " 1108055,\n",
              " 9396822,\n",
              " 7168286,\n",
              " 884694,\n",
              " 1098719,\n",
              " 1082990,\n",
              " 12352054,\n",
              " 1093490,\n",
              " 1093413,\n",
              " 5572803,\n",
              " 6039994,\n",
              " 875089,\n",
              " 892728,\n",
              " 868645,\n",
              " 918046,\n",
              " 6391089,\n",
              " 1019942,\n",
              " 1111986,\n",
              " 914245,\n",
              " 997025,\n",
              " 914753,\n",
              " 9420183,\n",
              " 868645,\n",
              " 847962,\n",
              " 9677152,\n",
              " 12262832,\n",
              " 963686,\n",
              " 997025,\n",
              " 965772,\n",
              " 1116050,\n",
              " 983659,\n",
              " 962266,\n",
              " 6552318,\n",
              " 6391089,\n",
              " 916578]"
            ]
          },
          "metadata": {
            "tags": []
          },
          "execution_count": 10
        }
      ]
    },
    {
      "cell_type": "markdown",
      "metadata": {
        "id": "eU-3hicgAId9",
        "colab_type": "text"
      },
      "source": [
        "### Задание 1\n",
        "\n",
        "A) Попробуйте различные варианты генерации кандидатов. Какие из них дают наибольший recall@k ?\n",
        "- Пока пробуем отобрать 200 кандидатов (k=200)\n",
        "- Качество измеряем на data_val_lvl_1: следующие 6 недель после трейна\n",
        "\n",
        "Дают ли own recommendtions + top-popular лучший recall?  \n",
        "\n",
        "B)* Как зависит recall@k от k? Постройте для одной схемы генерации кандидатов эту зависимость для k = {20, 50, 100, 200, 500}  \n",
        "C)* Исходя из прошлого вопроса, как вы думаете, какое значение k является наиболее разумным?\n"
      ]
    },
    {
      "cell_type": "code",
      "metadata": {
        "id": "GkSHkfomAId-",
        "colab_type": "code",
        "colab": {
          "base_uri": "https://localhost:8080/",
          "height": 108
        },
        "outputId": "03a60fe9-8aff-4f07-8c81-dc37ff30417d"
      },
      "source": [
        "result_lvl_1 = data_val_lvl_1.groupby('user_id')['item_id'].unique().reset_index()\n",
        "result_lvl_1.columns=['user_id', 'actual']\n",
        "result_lvl_1.head(2)"
      ],
      "execution_count": 11,
      "outputs": [
        {
          "output_type": "execute_result",
          "data": {
            "text/html": [
              "<div>\n",
              "<style scoped>\n",
              "    .dataframe tbody tr th:only-of-type {\n",
              "        vertical-align: middle;\n",
              "    }\n",
              "\n",
              "    .dataframe tbody tr th {\n",
              "        vertical-align: top;\n",
              "    }\n",
              "\n",
              "    .dataframe thead th {\n",
              "        text-align: right;\n",
              "    }\n",
              "</style>\n",
              "<table border=\"1\" class=\"dataframe\">\n",
              "  <thead>\n",
              "    <tr style=\"text-align: right;\">\n",
              "      <th></th>\n",
              "      <th>user_id</th>\n",
              "      <th>actual</th>\n",
              "    </tr>\n",
              "  </thead>\n",
              "  <tbody>\n",
              "    <tr>\n",
              "      <th>0</th>\n",
              "      <td>1</td>\n",
              "      <td>[853529, 865456, 867607, 872137, 874905, 87524...</td>\n",
              "    </tr>\n",
              "    <tr>\n",
              "      <th>1</th>\n",
              "      <td>2</td>\n",
              "      <td>[15830248, 838136, 839656, 861272, 866211, 870...</td>\n",
              "    </tr>\n",
              "  </tbody>\n",
              "</table>\n",
              "</div>"
            ],
            "text/plain": [
              "   user_id                                             actual\n",
              "0        1  [853529, 865456, 867607, 872137, 874905, 87524...\n",
              "1        2  [15830248, 838136, 839656, 861272, 866211, 870..."
            ]
          },
          "metadata": {
            "tags": []
          },
          "execution_count": 11
        }
      ]
    },
    {
      "cell_type": "code",
      "metadata": {
        "id": "i9PEmRqZYjCR",
        "colab_type": "code",
        "colab": {
          "base_uri": "https://localhost:8080/",
          "height": 35
        },
        "outputId": "1b8ab121-519c-40e3-a36e-8835ca5b1338"
      },
      "source": [
        "users_cold = np.setdiff1d(result_lvl_1['user_id'], data_train_lvl_1['user_id']).tolist()\n",
        "users_cold"
      ],
      "execution_count": 12,
      "outputs": [
        {
          "output_type": "execute_result",
          "data": {
            "text/plain": [
              "[296, 1813, 1984]"
            ]
          },
          "metadata": {
            "tags": []
          },
          "execution_count": 12
        }
      ]
    },
    {
      "cell_type": "code",
      "metadata": {
        "id": "W8yErluxYjAB",
        "colab_type": "code",
        "colab": {}
      },
      "source": [
        "result_lvl_1 = result_lvl_1[~result_lvl_1['user_id'].isin(users_cold)]"
      ],
      "execution_count": 13,
      "outputs": []
    },
    {
      "cell_type": "code",
      "metadata": {
        "id": "AD63g2PAYi8N",
        "colab_type": "code",
        "colab": {
          "base_uri": "https://localhost:8080/",
          "height": 108
        },
        "outputId": "edac9a3a-3611-4e86-afec-d3cbfb46d765"
      },
      "source": [
        "result_lvl_1.head(2)"
      ],
      "execution_count": 14,
      "outputs": [
        {
          "output_type": "execute_result",
          "data": {
            "text/html": [
              "<div>\n",
              "<style scoped>\n",
              "    .dataframe tbody tr th:only-of-type {\n",
              "        vertical-align: middle;\n",
              "    }\n",
              "\n",
              "    .dataframe tbody tr th {\n",
              "        vertical-align: top;\n",
              "    }\n",
              "\n",
              "    .dataframe thead th {\n",
              "        text-align: right;\n",
              "    }\n",
              "</style>\n",
              "<table border=\"1\" class=\"dataframe\">\n",
              "  <thead>\n",
              "    <tr style=\"text-align: right;\">\n",
              "      <th></th>\n",
              "      <th>user_id</th>\n",
              "      <th>actual</th>\n",
              "    </tr>\n",
              "  </thead>\n",
              "  <tbody>\n",
              "    <tr>\n",
              "      <th>0</th>\n",
              "      <td>1</td>\n",
              "      <td>[853529, 865456, 867607, 872137, 874905, 87524...</td>\n",
              "    </tr>\n",
              "    <tr>\n",
              "      <th>1</th>\n",
              "      <td>2</td>\n",
              "      <td>[15830248, 838136, 839656, 861272, 866211, 870...</td>\n",
              "    </tr>\n",
              "  </tbody>\n",
              "</table>\n",
              "</div>"
            ],
            "text/plain": [
              "   user_id                                             actual\n",
              "0        1  [853529, 865456, 867607, 872137, 874905, 87524...\n",
              "1        2  [15830248, 838136, 839656, 861272, 866211, 870..."
            ]
          },
          "metadata": {
            "tags": []
          },
          "execution_count": 14
        }
      ]
    },
    {
      "cell_type": "code",
      "metadata": {
        "id": "J_EmdU8qoZ0n",
        "colab_type": "code",
        "colab": {
          "base_uri": "https://localhost:8080/",
          "height": 35
        },
        "outputId": "42da33d3-3366-43b8-a695-aa5e6c8bc4ed"
      },
      "source": [
        "result_lvl_1['own_recommendations'] = result_lvl_1['user_id'].apply(lambda x: recommender.get_own_recommendations(x, N=200))\n",
        "result_lvl_1.apply(lambda row: recall_at_k(row['own_recommendations'], row['actual'], 200), axis=1).mean()"
      ],
      "execution_count": 15,
      "outputs": [
        {
          "output_type": "execute_result",
          "data": {
            "text/plain": [
              "0.13537278412833242"
            ]
          },
          "metadata": {
            "tags": []
          },
          "execution_count": 15
        }
      ]
    },
    {
      "cell_type": "code",
      "metadata": {
        "id": "GPF8_MMmYi4l",
        "colab_type": "code",
        "colab": {
          "base_uri": "https://localhost:8080/",
          "height": 35
        },
        "outputId": "ca44977b-0409-447e-95dd-8e0db13a8fa8"
      },
      "source": [
        "result_lvl_1['als_recommendations'] = result_lvl_1['user_id'].apply(lambda x: recommender.get_als_recommendations(x, N=200))\n",
        "result_lvl_1.apply(lambda row: recall_at_k(row['als_recommendations'], row['actual'], 200), axis=1).mean()"
      ],
      "execution_count": 16,
      "outputs": [
        {
          "output_type": "execute_result",
          "data": {
            "text/plain": [
              "0.10338324934423698"
            ]
          },
          "metadata": {
            "tags": []
          },
          "execution_count": 16
        }
      ]
    },
    {
      "cell_type": "code",
      "metadata": {
        "id": "VodPpMeaoZxN",
        "colab_type": "code",
        "colab": {
          "base_uri": "https://localhost:8080/",
          "height": 35
        },
        "outputId": "12f4c4ac-ef17-4883-de27-f2abeac2c20f"
      },
      "source": [
        "result_lvl_1['similar_items_recommendation'] = result_lvl_1['user_id'].apply(lambda x: recommender.get_similar_items_recommendation(x, N=200))\n",
        "result_lvl_1.apply(lambda row: recall_at_k(row['similar_items_recommendation'], row['actual'], 200), axis=1).mean()"
      ],
      "execution_count": 17,
      "outputs": [
        {
          "output_type": "execute_result",
          "data": {
            "text/plain": [
              "0.08899118509838891"
            ]
          },
          "metadata": {
            "tags": []
          },
          "execution_count": 17
        }
      ]
    },
    {
      "cell_type": "code",
      "metadata": {
        "id": "agpC0dD8CikK",
        "colab_type": "code",
        "colab": {
          "base_uri": "https://localhost:8080/",
          "height": 35
        },
        "outputId": "43299abd-ab43-4aa9-8ccc-fa4c786227e7"
      },
      "source": [
        "result_lvl_1['similar_users_recommendation'] = result_lvl_1['user_id'].apply(lambda x: recommender.get_similar_users_recommendation(x, N=200))\n",
        "result_lvl_1.apply(lambda row: recall_at_k(row['similar_users_recommendation'], row['actual'], 200), axis=1).mean()"
      ],
      "execution_count": 18,
      "outputs": [
        {
          "output_type": "execute_result",
          "data": {
            "text/plain": [
              "0.008586453783162366"
            ]
          },
          "metadata": {
            "tags": []
          },
          "execution_count": 18
        }
      ]
    },
    {
      "cell_type": "code",
      "metadata": {
        "id": "KUd5TXmXoZuW",
        "colab_type": "code",
        "colab": {
          "base_uri": "https://localhost:8080/",
          "height": 143
        },
        "outputId": "312199ea-b2aa-402f-a423-66a1a74ccc2a"
      },
      "source": [
        "result_lvl_1.head(2)"
      ],
      "execution_count": 19,
      "outputs": [
        {
          "output_type": "execute_result",
          "data": {
            "text/html": [
              "<div>\n",
              "<style scoped>\n",
              "    .dataframe tbody tr th:only-of-type {\n",
              "        vertical-align: middle;\n",
              "    }\n",
              "\n",
              "    .dataframe tbody tr th {\n",
              "        vertical-align: top;\n",
              "    }\n",
              "\n",
              "    .dataframe thead th {\n",
              "        text-align: right;\n",
              "    }\n",
              "</style>\n",
              "<table border=\"1\" class=\"dataframe\">\n",
              "  <thead>\n",
              "    <tr style=\"text-align: right;\">\n",
              "      <th></th>\n",
              "      <th>user_id</th>\n",
              "      <th>actual</th>\n",
              "      <th>own_recommendations</th>\n",
              "      <th>als_recommendations</th>\n",
              "      <th>similar_items_recommendation</th>\n",
              "      <th>similar_users_recommendation</th>\n",
              "    </tr>\n",
              "  </thead>\n",
              "  <tbody>\n",
              "    <tr>\n",
              "      <th>0</th>\n",
              "      <td>1</td>\n",
              "      <td>[853529, 865456, 867607, 872137, 874905, 87524...</td>\n",
              "      <td>[856942, 9297615, 5577022, 877391, 9655212, 88...</td>\n",
              "      <td>[5577022, 962615, 920200, 1082212, 976214, 856...</td>\n",
              "      <td>[844818, 5582712, 9297615, 5577022, 9670830, 9...</td>\n",
              "      <td>[937110, 977559, 983753, 932949, 939860, 84136...</td>\n",
              "    </tr>\n",
              "    <tr>\n",
              "      <th>1</th>\n",
              "      <td>2</td>\n",
              "      <td>[15830248, 838136, 839656, 861272, 866211, 870...</td>\n",
              "      <td>[911974, 1076580, 1103898, 5567582, 1056620, 9...</td>\n",
              "      <td>[865528, 5569230, 1110244, 972665, 1092835, 10...</td>\n",
              "      <td>[8090509, 5569845, 1044078, 985999, 880888, 81...</td>\n",
              "      <td>[882826, 1015539, 898363, 933102, 861990, 8531...</td>\n",
              "    </tr>\n",
              "  </tbody>\n",
              "</table>\n",
              "</div>"
            ],
            "text/plain": [
              "   user_id  ...                       similar_users_recommendation\n",
              "0        1  ...  [937110, 977559, 983753, 932949, 939860, 84136...\n",
              "1        2  ...  [882826, 1015539, 898363, 933102, 861990, 8531...\n",
              "\n",
              "[2 rows x 6 columns]"
            ]
          },
          "metadata": {
            "tags": []
          },
          "execution_count": 19
        }
      ]
    },
    {
      "cell_type": "markdown",
      "metadata": {
        "id": "c_QUfSvhdU9U",
        "colab_type": "text"
      },
      "source": [
        "Определим зависимость recall@k от k для own_recommendations при k = {20, 50, 100, 200, 500}:"
      ]
    },
    {
      "cell_type": "code",
      "metadata": {
        "id": "4xseWpv7ZIaj",
        "colab_type": "code",
        "colab": {
          "base_uri": "https://localhost:8080/",
          "height": 35
        },
        "outputId": "e15f6f9f-7eb7-43b8-c8f6-5df348c9e552"
      },
      "source": [
        "result_lvl_1['own_recommendations'] = result_lvl_1['user_id'].apply(lambda x: recommender.get_own_recommendations(x, N=20))\n",
        "result_lvl_1.apply(lambda row: recall_at_k(row['own_recommendations'], row['actual'], 20), axis=1).mean()"
      ],
      "execution_count": 20,
      "outputs": [
        {
          "output_type": "execute_result",
          "data": {
            "text/plain": [
              "0.03928427679372909"
            ]
          },
          "metadata": {
            "tags": []
          },
          "execution_count": 20
        }
      ]
    },
    {
      "cell_type": "code",
      "metadata": {
        "id": "9p_XCqChZIOq",
        "colab_type": "code",
        "colab": {
          "base_uri": "https://localhost:8080/",
          "height": 35
        },
        "outputId": "104d89d2-1fae-404d-b3d3-9f1824285883"
      },
      "source": [
        "result_lvl_1['own_recommendations'] = result_lvl_1['user_id'].apply(lambda x: recommender.get_own_recommendations(x, N=50))\n",
        "result_lvl_1.apply(lambda row: recall_at_k(row['own_recommendations'], row['actual'], 50), axis=1).mean()"
      ],
      "execution_count": 21,
      "outputs": [
        {
          "output_type": "execute_result",
          "data": {
            "text/plain": [
              "0.06525657038145175"
            ]
          },
          "metadata": {
            "tags": []
          },
          "execution_count": 21
        }
      ]
    },
    {
      "cell_type": "code",
      "metadata": {
        "id": "8DqEMTnbcfzs",
        "colab_type": "code",
        "colab": {
          "base_uri": "https://localhost:8080/",
          "height": 35
        },
        "outputId": "6f156757-d171-4240-994e-50bfe8368fd6"
      },
      "source": [
        "result_lvl_1['own_recommendations'] = result_lvl_1['user_id'].apply(lambda x: recommender.get_own_recommendations(x, N=100))\n",
        "result_lvl_1.apply(lambda row: recall_at_k(row['own_recommendations'], row['actual'], 100), axis=1).mean()"
      ],
      "execution_count": 22,
      "outputs": [
        {
          "output_type": "execute_result",
          "data": {
            "text/plain": [
              "0.09604492955885034"
            ]
          },
          "metadata": {
            "tags": []
          },
          "execution_count": 22
        }
      ]
    },
    {
      "cell_type": "code",
      "metadata": {
        "id": "5Ptep7yGcfci",
        "colab_type": "code",
        "colab": {
          "base_uri": "https://localhost:8080/",
          "height": 35
        },
        "outputId": "50a01987-8299-4b0b-efb1-8c49eb6c1d27"
      },
      "source": [
        "result_lvl_1['own_recommendations'] = result_lvl_1['user_id'].apply(lambda x: recommender.get_own_recommendations(x, N=500))\n",
        "result_lvl_1.apply(lambda row: recall_at_k(row['own_recommendations'], row['actual'], 500), axis=1).mean()"
      ],
      "execution_count": 23,
      "outputs": [
        {
          "output_type": "execute_result",
          "data": {
            "text/plain": [
              "0.18205324555508678"
            ]
          },
          "metadata": {
            "tags": []
          },
          "execution_count": 23
        }
      ]
    },
    {
      "cell_type": "markdown",
      "metadata": {
        "id": "bvKQeYSfybY2",
        "colab_type": "text"
      },
      "source": [
        "Ответы:\n",
        "\n",
        "A)   Наибольший *recall@k* даёт *own recommendtions+top-popular*;\n",
        "\n",
        "Б)   По мере увеличения *k* наблюдается увеличение *recall@k*;\n",
        "\n",
        "С)   Наиболее целесообразным значением *k* является значение равное максимальному числу кандидатов.\n",
        "\n"
      ]
    },
    {
      "cell_type": "markdown",
      "metadata": {
        "id": "Z-STh8a_AIeG",
        "colab_type": "text"
      },
      "source": [
        "### Задание 2.\n",
        "\n",
        "Обучите модель 2-ого уровня, при этом:\n",
        "    \n",
        "    - Добавьте минимум по 2 фичи для юзера, товара и пары юзер-товар;\n",
        "    - Измерьте отдельно precision@5 модели 1-ого уровня и двухуровневой модели на data_val_lvl_2;\n",
        "    - Вырос ли precision@5 при использовании двухуровневой модели?"
      ]
    },
    {
      "cell_type": "code",
      "metadata": {
        "id": "QLuKKaAbN3EW",
        "colab_type": "code",
        "colab": {}
      },
      "source": [
        "als_recommendations = result_lvl_1[['user_id', 'als_recommendations']]"
      ],
      "execution_count": 24,
      "outputs": []
    },
    {
      "cell_type": "code",
      "metadata": {
        "id": "eX-Fsl0nN2_d",
        "colab_type": "code",
        "colab": {}
      },
      "source": [
        "valid_lvl_2 = data_val_lvl_2.groupby('user_id')['item_id'].unique().reset_index().rename(columns={'item_id': 'actual'})\n",
        "valid_lvl_2 = valid_lvl_2.merge(als_recommendations, on='user_id', how='left')"
      ],
      "execution_count": 25,
      "outputs": []
    },
    {
      "cell_type": "code",
      "metadata": {
        "id": "wZTfawy5N-MI",
        "colab_type": "code",
        "colab": {
          "base_uri": "https://localhost:8080/",
          "height": 35
        },
        "outputId": "4186b7b1-6510-4705-c775-a211ace98b2f"
      },
      "source": [
        "valid_lvl_2[valid_lvl_2.als_recommendations.notna()].\\\n",
        "apply(lambda row: precision_at_k(row['als_recommendations'], row['actual'], k=5), axis=1).mean()"
      ],
      "execution_count": 26,
      "outputs": [
        {
          "output_type": "execute_result",
          "data": {
            "text/plain": [
              "0.10558746736292388"
            ]
          },
          "metadata": {
            "tags": []
          },
          "execution_count": 26
        }
      ]
    },
    {
      "cell_type": "code",
      "metadata": {
        "id": "vfFdvmICPpux",
        "colab_type": "code",
        "colab": {}
      },
      "source": [
        ""
      ],
      "execution_count": 26,
      "outputs": []
    },
    {
      "cell_type": "code",
      "metadata": {
        "id": "ZHMOzUPvPpsX",
        "colab_type": "code",
        "colab": {}
      },
      "source": [
        ""
      ],
      "execution_count": 26,
      "outputs": []
    },
    {
      "cell_type": "code",
      "metadata": {
        "id": "0bQ1uN3lPpoH",
        "colab_type": "code",
        "colab": {}
      },
      "source": [
        ""
      ],
      "execution_count": 26,
      "outputs": []
    },
    {
      "cell_type": "code",
      "metadata": {
        "id": "ZNzuP6w6Ppk-",
        "colab_type": "code",
        "colab": {}
      },
      "source": [
        ""
      ],
      "execution_count": 26,
      "outputs": []
    }
  ]
}